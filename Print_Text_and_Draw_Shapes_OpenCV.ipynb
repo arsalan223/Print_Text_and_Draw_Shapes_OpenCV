{
 "cells": [
  {
   "cell_type": "code",
   "execution_count": 1,
   "metadata": {},
   "outputs": [],
   "source": [
    "import cv2 as cv\n",
    "import numpy as np "
   ]
  },
  {
   "cell_type": "code",
   "execution_count": 2,
   "metadata": {
    "scrolled": true
   },
   "outputs": [],
   "source": [
    "#creating workspace, we can also load image (via: cv.imread) to work on\n",
    "img = np.zeros((500,500,3)) #creating a black (500 x 500) array with 3 channels, using instead of an image\n",
    "\n",
    "img = cv.line(img, (10,10), (100,100),(255,0,0),5) #Drawing Line, arg1=img, arg2=starting(x,y), arg3=endong, arg4=color,arg5=thickness\n",
    "img = cv.arrowedLine(img, (10,50), (100, 140), (0,255,0), 5) #Drawing Arrowed-Line\n",
    "img = cv.rectangle(img, (150,30), (250, 130), (0,0,255), 5) #Drawing Rectangle, arg1=img, arg2=top-left, arg3=bottom-right, arg4=color,arg5=thickness\n",
    "img = cv.circle(img, (250, 250), 100, (0,255,255), 5) #Drawing Circle, arg1=img, arg2=center-point, arg3=radius, arg4=color,arg5=thickness\n",
    "img = cv.putText(img, 'OpenCV',(100, 450), cv.FONT_HERSHEY_SIMPLEX, 3, (255,0,255),5) #Printing Text, arg1=img, arg2=text, arg3=bottom-left starting, arg4=font-style,arg5=font-size, arg6=color, arg7=thickness\n",
    "\n",
    "cv.imshow('Image', img)\n",
    "cv.waitKey(0)\n",
    "cv.destroyAllWindows()"
   ]
  },
  {
   "cell_type": "code",
   "execution_count": null,
   "metadata": {},
   "outputs": [],
   "source": []
  }
 ],
 "metadata": {
  "kernelspec": {
   "display_name": "Python 3",
   "language": "python",
   "name": "python3"
  },
  "language_info": {
   "codemirror_mode": {
    "name": "ipython",
    "version": 3
   },
   "file_extension": ".py",
   "mimetype": "text/x-python",
   "name": "python",
   "nbconvert_exporter": "python",
   "pygments_lexer": "ipython3",
   "version": "3.8.1"
  }
 },
 "nbformat": 4,
 "nbformat_minor": 4
}
